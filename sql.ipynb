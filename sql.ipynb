{
 "cells": [
  {
   "cell_type": "code",
   "execution_count": 10,
   "id": "8a4a16cf",
   "metadata": {},
   "outputs": [
    {
     "data": {
      "text/plain": [
       "row_id         0\n",
       "subject_id     0\n",
       "hadm_id        0\n",
       "chartdate      0\n",
       "charttime      0\n",
       "storetime      0\n",
       "category       0\n",
       "description    0\n",
       "cgid           0\n",
       "iserror        0\n",
       "text           0\n",
       "dtype: int64"
      ]
     },
     "execution_count": 10,
     "metadata": {},
     "output_type": "execute_result"
    }
   ],
   "source": [
    "import pandas as pd\n",
    "\n",
    "df_admin = pd.read_csv('../data/ADMISSIONS.csv')\n",
    "df_patients = pd.read_csv('../data/PATIENTS.csv')\n",
    "#df_notes = pd.read_csv('../data/NOTEEVENTS.csv') #in the demo this is empty\n",
    " \n",
    "df_notes.count()"
   ]
  },
  {
   "cell_type": "code",
   "execution_count": null,
   "id": "d177a184",
   "metadata": {},
   "outputs": [],
   "source": []
  }
 ],
 "metadata": {
  "kernelspec": {
   "display_name": "Python 3 (ipykernel)",
   "language": "python",
   "name": "python3"
  },
  "language_info": {
   "codemirror_mode": {
    "name": "ipython",
    "version": 3
   },
   "file_extension": ".py",
   "mimetype": "text/x-python",
   "name": "python",
   "nbconvert_exporter": "python",
   "pygments_lexer": "ipython3",
   "version": "3.11.3"
  }
 },
 "nbformat": 4,
 "nbformat_minor": 5
}
